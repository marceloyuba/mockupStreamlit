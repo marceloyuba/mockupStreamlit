{
 "cells": [
  {
   "cell_type": "code",
   "execution_count": 1,
   "metadata": {},
   "outputs": [],
   "source": [
    "from IPython.display import IFrame"
   ]
  },
  {
   "cell_type": "code",
   "execution_count": 2,
   "metadata": {},
   "outputs": [],
   "source": [
    "dashboard = IFrame(src=\"https://app.powerbi.com/view?r=eyJrIjoiM2NjNDA0YmItMmRhZC00ZDhlLWFmOWYtZTZiMWMxYWY3ODAzIiwidCI6ImUyYjc5Nzc5LTBhODgtNDMzMS05YjQyLTM4NGNkNzFjODVkNyIsImMiOjR9\", width=1000, height=600)"
   ]
  },
  {
   "cell_type": "code",
   "execution_count": 3,
   "metadata": {},
   "outputs": [
    {
     "data": {
      "text/html": [
       "\n",
       "        <iframe\n",
       "            width=\"1000\"\n",
       "            height=\"600\"\n",
       "            src=\"https://app.powerbi.com/view?r=eyJrIjoiM2NjNDA0YmItMmRhZC00ZDhlLWFmOWYtZTZiMWMxYWY3ODAzIiwidCI6ImUyYjc5Nzc5LTBhODgtNDMzMS05YjQyLTM4NGNkNzFjODVkNyIsImMiOjR9\"\n",
       "            frameborder=\"0\"\n",
       "            allowfullscreen\n",
       "            \n",
       "        ></iframe>\n",
       "        "
      ],
      "text/plain": [
       "<IPython.lib.display.IFrame at 0x2411d8c8490>"
      ]
     },
     "metadata": {},
     "output_type": "display_data"
    }
   ],
   "source": [
    "display(dashboard)"
   ]
  },
  {
   "cell_type": "code",
   "execution_count": 22,
   "metadata": {},
   "outputs": [
    {
     "name": "stdout",
     "output_type": "stream",
     "text": [
      "827: 1450\n"
     ]
    },
    {
     "ename": "NameError",
     "evalue": "name 's' is not defined",
     "output_type": "error",
     "traceback": [
      "\u001b[1;31m---------------------------------------------------------------------------\u001b[0m",
      "\u001b[1;31mNameError\u001b[0m                                 Traceback (most recent call last)",
      "Cell \u001b[1;32mIn[22], line 11\u001b[0m\n\u001b[0;32m      9\u001b[0m \u001b[38;5;28;01mfor\u001b[39;00m n \u001b[38;5;129;01min\u001b[39;00m [\u001b[38;5;241m827\u001b[39m]:\n\u001b[0;32m     10\u001b[0m     \u001b[38;5;28mprint\u001b[39m(\u001b[38;5;28mstr\u001b[39m(n) \u001b[38;5;241m+\u001b[39m \u001b[38;5;124m\"\u001b[39m\u001b[38;5;124m: \u001b[39m\u001b[38;5;124m\"\u001b[39m \u001b[38;5;241m+\u001b[39m \u001b[38;5;28mstr\u001b[39m(compute(n)))\n\u001b[1;32m---> 11\u001b[0m     ss \u001b[38;5;241m=\u001b[39m \u001b[43ms\u001b[49m\u001b[38;5;241m*\u001b[39m\u001b[38;5;241m1000000000000000\u001b[39m\n",
      "\u001b[1;31mNameError\u001b[0m: name 's' is not defined"
     ]
    }
   ],
   "source": [
    "M = 2023\n",
    "s = \"\"\n",
    "def compute(n):\n",
    "   \n",
    "    for i in range(1, n+1):\n",
    "        s += str(n)\n",
    "    return int(s) % M\n",
    "\n",
    "for n in [827]:\n",
    "    print(str(n) + \": \" + str(compute(n)))\n",
    "    ss = s*1000000000000000"
   ]
  },
  {
   "cell_type": "code",
   "execution_count": 17,
   "metadata": {},
   "outputs": [
    {
     "ename": "ValueError",
     "evalue": "Exceeds the limit (4300 digits) for integer string conversion: value has 33108 digits; use sys.set_int_max_str_digits() to increase the limit",
     "output_type": "error",
     "traceback": [
      "\u001b[1;31m---------------------------------------------------------------------------\u001b[0m",
      "\u001b[1;31mValueError\u001b[0m                                Traceback (most recent call last)",
      "Cell \u001b[1;32mIn[17], line 9\u001b[0m\n\u001b[0;32m      6\u001b[0m     \u001b[38;5;28;01mreturn\u001b[39;00m \u001b[38;5;28mint\u001b[39m(s) \u001b[38;5;241m%\u001b[39m M\n\u001b[0;32m      8\u001b[0m \u001b[38;5;28;01mfor\u001b[39;00m n \u001b[38;5;129;01min\u001b[39;00m [\u001b[38;5;241m8277\u001b[39m]:\n\u001b[1;32m----> 9\u001b[0m     \u001b[38;5;28mprint\u001b[39m(\u001b[38;5;28mstr\u001b[39m(n) \u001b[38;5;241m+\u001b[39m \u001b[38;5;124m\"\u001b[39m\u001b[38;5;124m: \u001b[39m\u001b[38;5;124m\"\u001b[39m \u001b[38;5;241m+\u001b[39m \u001b[38;5;28mstr\u001b[39m(\u001b[43mcompute\u001b[49m\u001b[43m(\u001b[49m\u001b[43mn\u001b[49m\u001b[43m)\u001b[49m))\n",
      "Cell \u001b[1;32mIn[17], line 6\u001b[0m, in \u001b[0;36mcompute\u001b[1;34m(n)\u001b[0m\n\u001b[0;32m      4\u001b[0m nums \u001b[38;5;241m=\u001b[39m [\u001b[38;5;28mstr\u001b[39m(n)] \u001b[38;5;241m*\u001b[39m n  \u001b[38;5;66;03m# Crear una lista con 'n' repeticiones del valor de 'n'\u001b[39;00m\n\u001b[0;32m      5\u001b[0m s \u001b[38;5;241m=\u001b[39m \u001b[38;5;124m'\u001b[39m\u001b[38;5;124m'\u001b[39m\u001b[38;5;241m.\u001b[39mjoin(nums)   \u001b[38;5;66;03m# Unir los elementos de la lista en una cadena\u001b[39;00m\n\u001b[1;32m----> 6\u001b[0m \u001b[38;5;28;01mreturn\u001b[39;00m \u001b[38;5;28;43mint\u001b[39;49m\u001b[43m(\u001b[49m\u001b[43ms\u001b[49m\u001b[43m)\u001b[49m \u001b[38;5;241m%\u001b[39m M\n",
      "\u001b[1;31mValueError\u001b[0m: Exceeds the limit (4300 digits) for integer string conversion: value has 33108 digits; use sys.set_int_max_str_digits() to increase the limit"
     ]
    }
   ],
   "source": [
    "M = 2023\n",
    "\n",
    "def compute(n):\n",
    "    nums = [str(n)] * n  # Crear una lista con 'n' repeticiones del valor de 'n'\n",
    "    s = ''.join(nums)   # Unir los elementos de la lista en una cadena\n",
    "    return int(s) % M\n",
    "\n",
    "for n in [8277]:\n",
    "    print(str(n) + \": \" + str(compute(n)))"
   ]
  },
  {
   "cell_type": "code",
   "execution_count": 24,
   "metadata": {},
   "outputs": [
    {
     "ename": "KeyboardInterrupt",
     "evalue": "",
     "output_type": "error",
     "traceback": [
      "\u001b[1;31m---------------------------------------------------------------------------\u001b[0m",
      "\u001b[1;31mKeyboardInterrupt\u001b[0m                         Traceback (most recent call last)",
      "Cell \u001b[1;32mIn[24], line 14\u001b[0m\n\u001b[0;32m     12\u001b[0m result \u001b[38;5;241m=\u001b[39m \u001b[38;5;241m0\u001b[39m\n\u001b[0;32m     13\u001b[0m \u001b[38;5;28;01mwhile\u001b[39;00m large_number \u001b[38;5;241m>\u001b[39m \u001b[38;5;241m0\u001b[39m:\n\u001b[1;32m---> 14\u001b[0m     result \u001b[38;5;241m+\u001b[39m\u001b[38;5;241m=\u001b[39m \u001b[43mcompute\u001b[49m\u001b[43m(\u001b[49m\u001b[38;5;28;43mmin\u001b[39;49m\u001b[43m(\u001b[49m\u001b[43mlarge_number\u001b[49m\u001b[43m,\u001b[49m\u001b[43m \u001b[49m\u001b[38;5;241;43m1000000000000000\u001b[39;49m\u001b[43m)\u001b[49m\u001b[43m)\u001b[49m\n\u001b[0;32m     15\u001b[0m     large_number \u001b[38;5;241m-\u001b[39m\u001b[38;5;241m=\u001b[39m \u001b[38;5;241m1000000000000000\u001b[39m\n\u001b[0;32m     17\u001b[0m \u001b[38;5;28mprint\u001b[39m(\u001b[38;5;124m\"\u001b[39m\u001b[38;5;124mResult: \u001b[39m\u001b[38;5;124m\"\u001b[39m \u001b[38;5;241m+\u001b[39m \u001b[38;5;28mstr\u001b[39m(result \u001b[38;5;241m%\u001b[39m M))\n",
      "Cell \u001b[1;32mIn[24], line 8\u001b[0m, in \u001b[0;36mcompute\u001b[1;34m(n)\u001b[0m\n\u001b[0;32m      6\u001b[0m \u001b[38;5;28;01mfor\u001b[39;00m i \u001b[38;5;129;01min\u001b[39;00m \u001b[38;5;28mrange\u001b[39m(\u001b[38;5;241m1000000000000000\u001b[39m):\n\u001b[0;32m      7\u001b[0m     \u001b[38;5;28;01mfor\u001b[39;00m j \u001b[38;5;129;01min\u001b[39;00m \u001b[38;5;28mrange\u001b[39m(\u001b[38;5;241m1\u001b[39m, n\u001b[38;5;241m+\u001b[39m\u001b[38;5;241m1\u001b[39m):\n\u001b[1;32m----> 8\u001b[0m         result \u001b[38;5;241m=\u001b[39m (result \u001b[38;5;241m*\u001b[39m \u001b[38;5;241m10\u001b[39m \u001b[38;5;241m+\u001b[39m j) \u001b[38;5;241m%\u001b[39m M\n\u001b[0;32m      9\u001b[0m \u001b[38;5;28;01mreturn\u001b[39;00m result\n",
      "\u001b[1;31mKeyboardInterrupt\u001b[0m: "
     ]
    }
   ],
   "source": [
    "M = 2023\n",
    "\n",
    "def compute(n):\n",
    "    result = 0\n",
    "    n = int(n)  # Convertir n a entero\n",
    "    for i in range(1000000000000000):\n",
    "        for j in range(1, n+1):\n",
    "            result = (result * 10 + j) % M\n",
    "    return result\n",
    "\n",
    "large_number = 8277\n",
    "result = 0\n",
    "while large_number > 0:\n",
    "    result += compute(min(large_number, 1000000000000000))\n",
    "    large_number -= 1000000000000000\n",
    "\n",
    "print(\"Result: \" + str(result % M))"
   ]
  },
  {
   "cell_type": "code",
   "execution_count": 3,
   "metadata": {},
   "outputs": [],
   "source": [
    "import observable as Plot"
   ]
  },
  {
   "cell_type": "code",
   "execution_count": 6,
   "metadata": {},
   "outputs": [
    {
     "ename": "NameError",
     "evalue": "name 'Plot' is not defined",
     "output_type": "error",
     "traceback": [
      "\u001b[1;31m---------------------------------------------------------------------------\u001b[0m",
      "\u001b[1;31mNameError\u001b[0m                                 Traceback (most recent call last)",
      "Cell \u001b[1;32mIn[6], line 1\u001b[0m\n\u001b[1;32m----> 1\u001b[0m \u001b[43mPlot\u001b[49m\u001b[38;5;241m.\u001b[39mplot({\n\u001b[0;32m      2\u001b[0m   x: {axis: null},\n\u001b[0;32m      3\u001b[0m   y: {tickFormat: \u001b[38;5;124m\"\u001b[39m\u001b[38;5;124ms\u001b[39m\u001b[38;5;124m\"\u001b[39m, grid: true},\n\u001b[0;32m      4\u001b[0m   color: {scheme: \u001b[38;5;124m\"\u001b[39m\u001b[38;5;124mspectral\u001b[39m\u001b[38;5;124m\"\u001b[39m, legend: true},\n\u001b[0;32m      5\u001b[0m   marks: [\n\u001b[0;32m      6\u001b[0m     Plot\u001b[38;5;241m.\u001b[39mbarY(data, {\n\u001b[0;32m      7\u001b[0m       x: \u001b[38;5;124m\"\u001b[39m\u001b[38;5;124mkey\u001b[39m\u001b[38;5;124m\"\u001b[39m,\n\u001b[0;32m      8\u001b[0m       y: \u001b[38;5;124m\"\u001b[39m\u001b[38;5;124mpopulation\u001b[39m\u001b[38;5;124m\"\u001b[39m,\n\u001b[0;32m      9\u001b[0m       fill: \u001b[38;5;124m\"\u001b[39m\u001b[38;5;124mkey\u001b[39m\u001b[38;5;124m\"\u001b[39m,\n\u001b[0;32m     10\u001b[0m       fx: \u001b[38;5;124m\"\u001b[39m\u001b[38;5;124mstate\u001b[39m\u001b[38;5;124m\"\u001b[39m,\n\u001b[0;32m     11\u001b[0m       sort: {x: null, color: null, fx: {value: \u001b[38;5;124m\"\u001b[39m\u001b[38;5;124m-y\u001b[39m\u001b[38;5;124m\"\u001b[39m, reduce: \u001b[38;5;124m\"\u001b[39m\u001b[38;5;124msum\u001b[39m\u001b[38;5;124m\"\u001b[39m}}\n\u001b[0;32m     12\u001b[0m     }),\n\u001b[0;32m     13\u001b[0m     Plot\u001b[38;5;241m.\u001b[39mruleY([\u001b[38;5;241m0\u001b[39m])\n\u001b[0;32m     14\u001b[0m   ]\n\u001b[0;32m     15\u001b[0m })\n",
      "\u001b[1;31mNameError\u001b[0m: name 'Plot' is not defined"
     ]
    }
   ],
   "source": [
    "Plot.plot({\n",
    "  x: {axis: null},\n",
    "  y: {tickFormat: \"s\", grid: true},\n",
    "  color: {scheme: \"spectral\", legend: true},\n",
    "  marks: [\n",
    "    Plot.barY(data, {\n",
    "      x: \"key\",\n",
    "      y: \"population\",\n",
    "      fill: \"key\",\n",
    "      fx: \"state\",\n",
    "      sort: {x: null, color: null, fx: {value: \"-y\", reduce: \"sum\"}}\n",
    "    }),\n",
    "    Plot.ruleY([0])\n",
    "  ]\n",
    "})"
   ]
  }
 ],
 "metadata": {
  "kernelspec": {
   "display_name": "Python 3",
   "language": "python",
   "name": "python3"
  },
  "language_info": {
   "codemirror_mode": {
    "name": "ipython",
    "version": 3
   },
   "file_extension": ".py",
   "mimetype": "text/x-python",
   "name": "python",
   "nbconvert_exporter": "python",
   "pygments_lexer": "ipython3",
   "version": "3.11.8"
  }
 },
 "nbformat": 4,
 "nbformat_minor": 2
}
