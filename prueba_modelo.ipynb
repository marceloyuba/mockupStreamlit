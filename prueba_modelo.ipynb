{
 "cells": [
  {
   "cell_type": "code",
   "execution_count": 21,
   "metadata": {},
   "outputs": [],
   "source": [
    "import pickle \n",
    "import numpy as np\n",
    "import pandas as pd\n",
    "from sklearn.preprocessing import LabelEncoder\n",
    "import xgboost as xgb\n",
    "\n",
    "def cargar_modelo(ruta_modelo):\n",
    "    with open(ruta_modelo, 'rb') as f:\n",
    "        modelo = pickle.load(f)\n",
    "    return modelo\n",
    "\n",
    "def predecir_vehiculo(datos, modelo):\n",
    "    # Realizar la predicción usando el modelo\n",
    "    prediccion = modelo.predict(datos)\n",
    "    return prediccion\n",
    "\n",
    "def vehiculo():\n",
    "    # Cargar el modelo entrenado\n",
    "    modelo_entrenado = cargar_modelo('xtrain.pkl')\n",
    "\n",
    "    # Ejemplo de datos de entrada para predecir\n",
    "    datos_ejemplo = np.array([['mes', 'dia_inicio', 'hora_inicio', 'hora_fin', 'distancia_viaje', 'ubicacion_inicio', 'ubicacion_fin', 'pax']])\n",
    "\n",
    "    # Convertir el DataFrame a una matriz numpy\n",
    "    datos_ejemplo = datos_ejemplo.astype(float)\n",
    "\n",
    "    # Realizar la predicción usando la función predefinida\n",
    "    tipo_vehiculo_predicho = predecir_vehiculo(datos_ejemplo, modelo_entrenado)\n",
    "\n",
    "    print(f'Se recomienda el vehículo: {tipo_vehiculo_predicho}')\n"
   ]
  },
  {
   "cell_type": "code",
   "execution_count": 23,
   "metadata": {},
   "outputs": [
    {
     "ename": "RecursionError",
     "evalue": "maximum recursion depth exceeded",
     "output_type": "error",
     "traceback": [
      "\u001b[1;31m---------------------------------------------------------------------------\u001b[0m",
      "\u001b[1;31mRecursionError\u001b[0m                            Traceback (most recent call last)",
      "Cell \u001b[1;32mIn[23], line 5\u001b[0m\n\u001b[0;32m      2\u001b[0m     resultadovehiculo \u001b[38;5;241m=\u001b[39m vehiculo(mes, dia, hora_inicio, hora_fin, distancia_viaje, ubicacion_inicio, ubicacion_fin,pax)\n\u001b[0;32m      3\u001b[0m     \u001b[38;5;28;01mreturn\u001b[39;00m resultadovehiculo\n\u001b[1;32m----> 5\u001b[0m tp \u001b[38;5;241m=\u001b[39m \u001b[43mvehiculo\u001b[49m\u001b[43m(\u001b[49m\u001b[38;5;241;43m1\u001b[39;49m\u001b[43m,\u001b[49m\u001b[43m \u001b[49m\u001b[38;5;241;43m3\u001b[39;49m\u001b[43m,\u001b[49m\u001b[43m \u001b[49m\u001b[38;5;241;43m5\u001b[39;49m\u001b[43m,\u001b[49m\u001b[38;5;241;43m6\u001b[39;49m\u001b[43m,\u001b[49m\u001b[38;5;241;43m5\u001b[39;49m\u001b[43m,\u001b[49m\u001b[38;5;241;43m1\u001b[39;49m\u001b[43m,\u001b[49m\u001b[38;5;241;43m2\u001b[39;49m\u001b[43m,\u001b[49m\u001b[38;5;241;43m1\u001b[39;49m\u001b[43m)\u001b[49m\n",
      "Cell \u001b[1;32mIn[23], line 2\u001b[0m, in \u001b[0;36mvehiculo\u001b[1;34m(mes, dia, hora_inicio, hora_fin, distancia_viaje, ubicacion_inicio, ubicacion_fin, pax)\u001b[0m\n\u001b[0;32m      1\u001b[0m \u001b[38;5;28;01mdef\u001b[39;00m \u001b[38;5;21mvehiculo\u001b[39m(mes, dia, hora_inicio, hora_fin, distancia_viaje, ubicacion_inicio, ubicacion_fin, pax):\n\u001b[1;32m----> 2\u001b[0m     resultadovehiculo \u001b[38;5;241m=\u001b[39m \u001b[43mvehiculo\u001b[49m\u001b[43m(\u001b[49m\u001b[43mmes\u001b[49m\u001b[43m,\u001b[49m\u001b[43m \u001b[49m\u001b[43mdia\u001b[49m\u001b[43m,\u001b[49m\u001b[43m \u001b[49m\u001b[43mhora_inicio\u001b[49m\u001b[43m,\u001b[49m\u001b[43m \u001b[49m\u001b[43mhora_fin\u001b[49m\u001b[43m,\u001b[49m\u001b[43m \u001b[49m\u001b[43mdistancia_viaje\u001b[49m\u001b[43m,\u001b[49m\u001b[43m \u001b[49m\u001b[43mubicacion_inicio\u001b[49m\u001b[43m,\u001b[49m\u001b[43m \u001b[49m\u001b[43mubicacion_fin\u001b[49m\u001b[43m,\u001b[49m\u001b[43mpax\u001b[49m\u001b[43m)\u001b[49m\n\u001b[0;32m      3\u001b[0m     \u001b[38;5;28;01mreturn\u001b[39;00m resultadovehiculo\n",
      "Cell \u001b[1;32mIn[23], line 2\u001b[0m, in \u001b[0;36mvehiculo\u001b[1;34m(mes, dia, hora_inicio, hora_fin, distancia_viaje, ubicacion_inicio, ubicacion_fin, pax)\u001b[0m\n\u001b[0;32m      1\u001b[0m \u001b[38;5;28;01mdef\u001b[39;00m \u001b[38;5;21mvehiculo\u001b[39m(mes, dia, hora_inicio, hora_fin, distancia_viaje, ubicacion_inicio, ubicacion_fin, pax):\n\u001b[1;32m----> 2\u001b[0m     resultadovehiculo \u001b[38;5;241m=\u001b[39m \u001b[43mvehiculo\u001b[49m\u001b[43m(\u001b[49m\u001b[43mmes\u001b[49m\u001b[43m,\u001b[49m\u001b[43m \u001b[49m\u001b[43mdia\u001b[49m\u001b[43m,\u001b[49m\u001b[43m \u001b[49m\u001b[43mhora_inicio\u001b[49m\u001b[43m,\u001b[49m\u001b[43m \u001b[49m\u001b[43mhora_fin\u001b[49m\u001b[43m,\u001b[49m\u001b[43m \u001b[49m\u001b[43mdistancia_viaje\u001b[49m\u001b[43m,\u001b[49m\u001b[43m \u001b[49m\u001b[43mubicacion_inicio\u001b[49m\u001b[43m,\u001b[49m\u001b[43m \u001b[49m\u001b[43mubicacion_fin\u001b[49m\u001b[43m,\u001b[49m\u001b[43mpax\u001b[49m\u001b[43m)\u001b[49m\n\u001b[0;32m      3\u001b[0m     \u001b[38;5;28;01mreturn\u001b[39;00m resultadovehiculo\n",
      "    \u001b[1;31m[... skipping similar frames: vehiculo at line 2 (2971 times)]\u001b[0m\n",
      "Cell \u001b[1;32mIn[23], line 2\u001b[0m, in \u001b[0;36mvehiculo\u001b[1;34m(mes, dia, hora_inicio, hora_fin, distancia_viaje, ubicacion_inicio, ubicacion_fin, pax)\u001b[0m\n\u001b[0;32m      1\u001b[0m \u001b[38;5;28;01mdef\u001b[39;00m \u001b[38;5;21mvehiculo\u001b[39m(mes, dia, hora_inicio, hora_fin, distancia_viaje, ubicacion_inicio, ubicacion_fin, pax):\n\u001b[1;32m----> 2\u001b[0m     resultadovehiculo \u001b[38;5;241m=\u001b[39m \u001b[43mvehiculo\u001b[49m\u001b[43m(\u001b[49m\u001b[43mmes\u001b[49m\u001b[43m,\u001b[49m\u001b[43m \u001b[49m\u001b[43mdia\u001b[49m\u001b[43m,\u001b[49m\u001b[43m \u001b[49m\u001b[43mhora_inicio\u001b[49m\u001b[43m,\u001b[49m\u001b[43m \u001b[49m\u001b[43mhora_fin\u001b[49m\u001b[43m,\u001b[49m\u001b[43m \u001b[49m\u001b[43mdistancia_viaje\u001b[49m\u001b[43m,\u001b[49m\u001b[43m \u001b[49m\u001b[43mubicacion_inicio\u001b[49m\u001b[43m,\u001b[49m\u001b[43m \u001b[49m\u001b[43mubicacion_fin\u001b[49m\u001b[43m,\u001b[49m\u001b[43mpax\u001b[49m\u001b[43m)\u001b[49m\n\u001b[0;32m      3\u001b[0m     \u001b[38;5;28;01mreturn\u001b[39;00m resultadovehiculo\n",
      "\u001b[1;31mRecursionError\u001b[0m: maximum recursion depth exceeded"
     ]
    }
   ],
   "source": [
    "def vehiculo(mes, dia, hora_inicio, hora_fin, distancia_viaje, ubicacion_inicio, ubicacion_fin, pax):\n",
    "    resultadovehiculo = calcular_vehiculo(mes, dia, hora_inicio, hora_fin, distancia_viaje, ubicacion_inicio, ubicacion_fin, pax)\n",
    "    return resultadovehiculo\n",
    "\n",
    "def calcular_vehiculo(mes, dia, hora_inicio, hora_fin, distancia_viaje, ubicacion_inicio, ubicacion_fin, pax):\n",
    "    # Aquí realizas los cálculos y la predicción del vehículo\n",
    "    return resultado\n",
    "\n",
    "resultado = vehiculo(1, 3, 5,6,5,1,2,1)\n"
   ]
  }
 ],
 "metadata": {
  "kernelspec": {
   "display_name": "Python 3",
   "language": "python",
   "name": "python3"
  },
  "language_info": {
   "codemirror_mode": {
    "name": "ipython",
    "version": 3
   },
   "file_extension": ".py",
   "mimetype": "text/x-python",
   "name": "python",
   "nbconvert_exporter": "python",
   "pygments_lexer": "ipython3",
   "version": "3.11.9"
  }
 },
 "nbformat": 4,
 "nbformat_minor": 2
}
